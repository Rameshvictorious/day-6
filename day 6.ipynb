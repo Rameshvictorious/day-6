{
 "cells": [
  {
   "cell_type": "code",
   "execution_count": null,
   "id": "1424794f",
   "metadata": {},
   "outputs": [],
   "source": [
    "Introsuction to looping statements"
   ]
  },
  {
   "cell_type": "code",
   "execution_count": null,
   "id": "01bdb6e9",
   "metadata": {},
   "outputs": [],
   "source": [
    "1.for loop\n",
    "\n",
    "2.while loop"
   ]
  },
  {
   "cell_type": "code",
   "execution_count": null,
   "id": "4e605a12",
   "metadata": {},
   "outputs": [],
   "source": [
    "introduction to for loop :"
   ]
  },
  {
   "cell_type": "code",
   "execution_count": null,
   "id": "058261d9",
   "metadata": {},
   "outputs": [],
   "source": [
    "#general syntax of a for loop :"
   ]
  },
  {
   "cell_type": "code",
   "execution_count": null,
   "id": "dcc6b18f",
   "metadata": {},
   "outputs": [],
   "source": [
    "for tempvar in mainvar :\n",
    "    print(tempvar)"
   ]
  },
  {
   "cell_type": "code",
   "execution_count": null,
   "id": "83c5d583",
   "metadata": {},
   "outputs": [],
   "source": []
  },
  {
   "cell_type": "code",
   "execution_count": 8,
   "id": "072b2bee",
   "metadata": {},
   "outputs": [
    {
     "name": "stdout",
     "output_type": "stream",
     "text": [
      "['ram', 'srinu', 'hari', 'yash']\n"
     ]
    }
   ],
   "source": [
    "students =['ram','srinu','hari','yash']\n",
    "print(students)"
   ]
  },
  {
   "cell_type": "code",
   "execution_count": 9,
   "id": "110ee76d",
   "metadata": {},
   "outputs": [
    {
     "name": "stdout",
     "output_type": "stream",
     "text": [
      "keep up the good work, Ram\n"
     ]
    }
   ],
   "source": [
    "message = f\"keep up the good work, {students[0].title()}\"\n",
    "print(message)"
   ]
  },
  {
   "cell_type": "code",
   "execution_count": 13,
   "id": "de43c24e",
   "metadata": {},
   "outputs": [
    {
     "name": "stdout",
     "output_type": "stream",
     "text": [
      "Hello , Ram\n",
      "Hello , Srinu\n",
      "Hello , Hari\n",
      "Hello , Yash\n"
     ]
    }
   ],
   "source": [
    "for x in students:\n",
    "    print(f\"Hello , {x.title()}\")"
   ]
  },
  {
   "cell_type": "code",
   "execution_count": 14,
   "id": "4ebf8d2e",
   "metadata": {},
   "outputs": [
    {
     "name": "stdout",
     "output_type": "stream",
     "text": [
      "ram\n",
      "srinu\n",
      "hari\n",
      "yash\n"
     ]
    }
   ],
   "source": [
    "for x in students: \n",
    "    print(x)"
   ]
  },
  {
   "cell_type": "code",
   "execution_count": 16,
   "id": "5ac3efdd",
   "metadata": {},
   "outputs": [
    {
     "name": "stdout",
     "output_type": "stream",
     "text": [
      "Hello , Ram\n",
      "Ram,Are you ok\n",
      "\n",
      "Hello , Srinu\n",
      "Srinu,Are you ok\n",
      "\n",
      "Hello , Hari\n",
      "Hari,Are you ok\n",
      "\n",
      "Hello , Yash\n",
      "Yash,Are you ok\n",
      "\n"
     ]
    }
   ],
   "source": [
    "for x in students:\n",
    "    print(f\"Hello , {x.title()}\")\n",
    "    print(f\"{x.title()},Are you ok\\n\")"
   ]
  },
  {
   "cell_type": "code",
   "execution_count": 19,
   "id": "e54247e3",
   "metadata": {},
   "outputs": [
    {
     "name": "stdout",
     "output_type": "stream",
     "text": [
      "Hello , Ram\n",
      "it's good to see you\n",
      "Hello , Srinu\n",
      "it's good to see you\n",
      "Hello , Hari\n",
      "it's good to see you\n",
      "Hello , Yash\n",
      "it's good to see you\n",
      "\n",
      "Thank you every one for joining\n"
     ]
    }
   ],
   "source": [
    "for x in students: \n",
    "    print(f\"Hello , {x.title()}\")\n",
    "    print(\"it's good to see you\")\n",
    "print(\"\\nThank you every one for joining\")"
   ]
  },
  {
   "cell_type": "code",
   "execution_count": null,
   "id": "bb47acea",
   "metadata": {},
   "outputs": [],
   "source": []
  },
  {
   "cell_type": "code",
   "execution_count": null,
   "id": "6f7cea44",
   "metadata": {},
   "outputs": [],
   "source": []
  },
  {
   "cell_type": "code",
   "execution_count": null,
   "id": "e7419c02",
   "metadata": {},
   "outputs": [],
   "source": []
  },
  {
   "cell_type": "code",
   "execution_count": null,
   "id": "add06645",
   "metadata": {},
   "outputs": [],
   "source": []
  }
 ],
 "metadata": {
  "kernelspec": {
   "display_name": "Python 3 (ipykernel)",
   "language": "python",
   "name": "python3"
  },
  "language_info": {
   "codemirror_mode": {
    "name": "ipython",
    "version": 3
   },
   "file_extension": ".py",
   "mimetype": "text/x-python",
   "name": "python",
   "nbconvert_exporter": "python",
   "pygments_lexer": "ipython3",
   "version": "3.9.13"
  }
 },
 "nbformat": 4,
 "nbformat_minor": 5
}
